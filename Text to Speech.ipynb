{
 "cells": [
  {
   "cell_type": "code",
   "execution_count": 2,
   "id": "e6ee47cb",
   "metadata": {},
   "outputs": [
    {
     "name": "stdout",
     "output_type": "stream",
     "text": [
      "Collecting pyttsx3\n",
      "  Downloading pyttsx3-2.90-py3-none-any.whl (39 kB)\n",
      "Requirement already satisfied: comtypes in c:\\users\\shobi\\anaconda3\\lib\\site-packages (from pyttsx3) (1.1.9)\n",
      "Collecting pypiwin32\n",
      "  Downloading pypiwin32-223-py3-none-any.whl (1.7 kB)\n",
      "Requirement already satisfied: pywin32 in c:\\users\\shobi\\anaconda3\\lib\\site-packages (from pyttsx3) (227)\n",
      "Installing collected packages: pypiwin32, pyttsx3\n",
      "Successfully installed pypiwin32-223 pyttsx3-2.90\n"
     ]
    }
   ],
   "source": [
    "# Text to speech conversion\n",
    "!pip install pyttsx3"
   ]
  },
  {
   "cell_type": "code",
   "execution_count": 5,
   "id": "41b90398",
   "metadata": {},
   "outputs": [
    {
     "name": "stdout",
     "output_type": "stream",
     "text": [
      "Say Something: Hi\n"
     ]
    }
   ],
   "source": [
    "import pyttsx3\n",
    "friend=pyttsx3.init()\n",
    "speech=input(\"Say Something: \")\n",
    "friend.say(speech)\n",
    "friend.runAndWait()"
   ]
  },
  {
   "cell_type": "code",
   "execution_count": 6,
   "id": "75341809",
   "metadata": {},
   "outputs": [
    {
     "name": "stdout",
     "output_type": "stream",
     "text": [
      "Say Something: hi\n"
     ]
    }
   ],
   "source": [
    "import pyttsx3\n",
    "def text_speech():\n",
    "    friend=pyttsx3.init()\n",
    "    speech=input(\"Say Something: \")\n",
    "    friend.say(speech)\n",
    "    friend.runAndWait()    \n",
    "text_speech()    "
   ]
  },
  {
   "cell_type": "code",
   "execution_count": null,
   "id": "622cea31",
   "metadata": {},
   "outputs": [],
   "source": []
  }
 ],
 "metadata": {
  "kernelspec": {
   "display_name": "Python 3",
   "language": "python",
   "name": "python3"
  },
  "language_info": {
   "codemirror_mode": {
    "name": "ipython",
    "version": 3
   },
   "file_extension": ".py",
   "mimetype": "text/x-python",
   "name": "python",
   "nbconvert_exporter": "python",
   "pygments_lexer": "ipython3",
   "version": "3.8.8"
  }
 },
 "nbformat": 4,
 "nbformat_minor": 5
}
